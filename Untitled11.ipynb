{
  "nbformat": 4,
  "nbformat_minor": 0,
  "metadata": {
    "colab": {
      "name": "Untitled11.ipynb",
      "provenance": [],
      "authorship_tag": "ABX9TyM0QdcRz7+D4re8NcUQYc2Z",
      "include_colab_link": true
    },
    "kernelspec": {
      "name": "python3",
      "display_name": "Python 3"
    },
    "language_info": {
      "name": "python"
    }
  },
  "cells": [
    {
      "cell_type": "markdown",
      "metadata": {
        "id": "view-in-github",
        "colab_type": "text"
      },
      "source": [
        "<a href=\"https://colab.research.google.com/github/ChiaraVanderputten/esameGennaio/blob/main/Untitled11.ipynb\" target=\"_parent\"><img src=\"https://colab.research.google.com/assets/colab-badge.svg\" alt=\"Open In Colab\"/></a>"
      ]
    },
    {
      "cell_type": "code",
      "execution_count": 8,
      "metadata": {
        "colab": {
          "base_uri": "https://localhost:8080/"
        },
        "id": "Epzvn7Ke_i14",
        "outputId": "50295fb9-c8bc-442a-9912-7a5fbb665dd9"
      },
      "outputs": [
        {
          "output_type": "stream",
          "name": "stdout",
          "text": [
            "<class 'pandas.core.frame.DataFrame'>\n",
            "RangeIndex: 224994 entries, 0 to 224993\n",
            "Data columns (total 6 columns):\n",
            " #   Column     Non-Null Count   Dtype \n",
            "---  ------     --------------   ----- \n",
            " 0   sentiment  224994 non-null  int64 \n",
            " 1   ids        224994 non-null  int64 \n",
            " 2   date       224994 non-null  object\n",
            " 3   flag       224994 non-null  object\n",
            " 4   user       224994 non-null  object\n",
            " 5   text       224994 non-null  object\n",
            "dtypes: int64(2), object(4)\n",
            "memory usage: 10.3+ MB\n",
            "<class 'pandas.core.frame.DataFrame'>\n",
            "RangeIndex: 74999 entries, 0 to 74998\n",
            "Data columns (total 5 columns):\n",
            " #   Column  Non-Null Count  Dtype \n",
            "---  ------  --------------  ----- \n",
            " 0   ids     74999 non-null  int64 \n",
            " 1   date    74999 non-null  object\n",
            " 2   flag    74999 non-null  object\n",
            " 3   user    74999 non-null  object\n",
            " 4   text    74999 non-null  object\n",
            "dtypes: int64(1), object(4)\n",
            "memory usage: 2.9+ MB\n",
            "<class 'pandas.core.frame.DataFrame'>\n",
            "RangeIndex: 74999 entries, 0 to 74998\n",
            "Data columns (total 2 columns):\n",
            " #   Column     Non-Null Count  Dtype\n",
            "---  ------     --------------  -----\n",
            " 0   Id         74999 non-null  int64\n",
            " 1   Predicted  74999 non-null  int64\n",
            "dtypes: int64(2)\n",
            "memory usage: 1.1 MB\n",
            "sentiment    0\n",
            "ids          0\n",
            "date         0\n",
            "flag         0\n",
            "user         0\n",
            "text         0\n",
            "dtype: int64\n",
            "ids     0\n",
            "date    0\n",
            "flag    0\n",
            "user    0\n",
            "text    0\n",
            "dtype: int64\n",
            "Id           0\n",
            "Predicted    0\n",
            "dtype: int64\n"
          ]
        }
      ],
      "source": [
        "import numpy as np\n",
        "import pandas as pd\n",
        "\n",
        "dev = pd.read_csv(\"development.csv\")\n",
        "eval = pd.read_csv(\"evaluation.csv\")\n",
        "subm = pd.read_csv(\"sample_submission.csv\")\n",
        "\n",
        "dev.info()\n",
        "eval.info()\n",
        "subm.info()\n",
        "\n",
        "print(dev.isna().sum())\n",
        "print(eval.isna().sum())\n",
        "print(subm.isna().sum())"
      ]
    }
  ]
}