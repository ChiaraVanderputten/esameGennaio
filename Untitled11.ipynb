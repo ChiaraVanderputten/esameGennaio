{
  "nbformat": 4,
  "nbformat_minor": 0,
  "metadata": {
    "colab": {
      "name": "Untitled11.ipynb",
      "provenance": [],
      "authorship_tag": "ABX9TyNNgH5PdC5JIHsSzYkaNYjL",
      "include_colab_link": true
    },
    "kernelspec": {
      "name": "python3",
      "display_name": "Python 3"
    },
    "language_info": {
      "name": "python"
    }
  },
  "cells": [
    {
      "cell_type": "markdown",
      "metadata": {
        "id": "view-in-github",
        "colab_type": "text"
      },
      "source": [
        "<a href=\"https://colab.research.google.com/github/ChiaraVanderputten/esameGennaio/blob/main/Untitled11.ipynb\" target=\"_parent\"><img src=\"https://colab.research.google.com/assets/colab-badge.svg\" alt=\"Open In Colab\"/></a>"
      ]
    },
    {
      "cell_type": "code",
      "execution_count": 5,
      "metadata": {
        "colab": {
          "base_uri": "https://localhost:8080/"
        },
        "id": "Epzvn7Ke_i14",
        "outputId": "3a0378de-264b-4f4c-a213-6e53f7c0a1cc"
      },
      "outputs": [
        {
          "output_type": "stream",
          "name": "stdout",
          "text": [
            "<class 'pandas.core.frame.DataFrame'>\n",
            "RangeIndex: 224994 entries, 0 to 224993\n",
            "Data columns (total 6 columns):\n",
            " #   Column     Non-Null Count   Dtype \n",
            "---  ------     --------------   ----- \n",
            " 0   sentiment  224994 non-null  int64 \n",
            " 1   ids        224994 non-null  int64 \n",
            " 2   date       224994 non-null  object\n",
            " 3   flag       224994 non-null  object\n",
            " 4   user       224994 non-null  object\n",
            " 5   text       224994 non-null  object\n",
            "dtypes: int64(2), object(4)\n",
            "memory usage: 10.3+ MB\n",
            "<class 'pandas.core.frame.DataFrame'>\n",
            "RangeIndex: 74999 entries, 0 to 74998\n",
            "Data columns (total 5 columns):\n",
            " #   Column  Non-Null Count  Dtype \n",
            "---  ------  --------------  ----- \n",
            " 0   ids     74999 non-null  int64 \n",
            " 1   date    74999 non-null  object\n",
            " 2   flag    74999 non-null  object\n",
            " 3   user    74999 non-null  object\n",
            " 4   text    74999 non-null  object\n",
            "dtypes: int64(1), object(4)\n",
            "memory usage: 2.9+ MB\n",
            "<class 'pandas.core.frame.DataFrame'>\n",
            "RangeIndex: 74999 entries, 0 to 74998\n",
            "Data columns (total 2 columns):\n",
            " #   Column     Non-Null Count  Dtype\n",
            "---  ------     --------------  -----\n",
            " 0   Id         74999 non-null  int64\n",
            " 1   Predicted  74999 non-null  int64\n",
            "dtypes: int64(2)\n",
            "memory usage: 1.1 MB\n"
          ]
        }
      ],
      "source": [
        "import numpy as np\n",
        "import pandas as pd\n",
        "\n",
        "dev = pd.read_csv(\"development.csv\")\n",
        "eval = pd.read_csv(\"evaluation.csv\")\n",
        "subm = pd.read_csv(\"sample_submission.csv\")\n",
        "\n",
        "dev.info()\n",
        "eval.info()\n",
        "subm.info()"
      ]
    }
  ]
}